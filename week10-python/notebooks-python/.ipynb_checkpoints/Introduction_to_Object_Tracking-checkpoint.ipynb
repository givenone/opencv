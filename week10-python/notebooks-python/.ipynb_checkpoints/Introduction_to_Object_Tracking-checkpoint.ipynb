{
 "cells": [
  {
   "cell_type": "markdown",
   "metadata": {},
   "source": [
    "# <font style = \"color:rgb(50,120,229)\">Introduction to Object Tracking</font>\n",
    "\n",
    "# <font style = \"color:rgb(50,120,229)\">What is Object Tracking ?</font>\n",
    "\n",
    "Simply put, locating an object in successive frames of a video is called **tracking**.\n",
    "\n",
    "The definition sounds straight forward but in computer vision and machine learning, tracking is a very broad term that encompasses conceptually similar but technically different ideas. For example, all the following different but related ideas are generally studied under **Object Tracking**\n",
    "\n",
    "1. **Dense Optical flow**: These algorithms help estimate the motion vector of every pixel in a video frame.\n",
    "\n",
    "2. **Sparse optical flow**: These algorithms, like the Kanade-Lucas-Tomashi (KLT) feature tracker, track the location of a few feature points in an image. We have covered this in stabilization of landmarks. \n",
    "\n",
    "3. **Kalman Filtering**: A very popular signal processing algorithm used to predict the location of a moving object based on prior motion information. One of the early applications of this algorithm was missile guidance! Also as mentioned [here](https://www.cs.unc.edu/%7Ewelch/kalman/siam_cipra.html), \"the on-board computer that guided the descent of the Apollo 11 lunar module to the moon had a Kalman filter\".\n",
    "\n",
    "4. **Meanshift and Camshift**: These are algorithms for locating the maxima of a density function. They are also used for tracking.\n",
    "\n",
    "5. **Single object trackers**: In this class of trackers, the first frame is marked using a rectangle to indicate the location of the object we want to track. The object is then tracked in subsequent frames using the tracking algorithm. In most real life applications, these trackers are used in conjunction with an object detector.\n",
    "\n",
    "6. **Multiple object track finding algorithms**: In cases when we have a fast object detector, it makes sense to detect multiple objects in each frame and then run a track finding algorithm that identifies which rectangle in one frame corresponds to a rectangle in the next frame.\n",
    "\n",
    "# <font style = \"color:rgb(50,120,229)\">Tracking versus Detection</font>\n",
    "\n",
    "From the last module, we know many detectors in OpenCV (e.g. the face and pedestrian detectors) work in real time and we can easily detect an object in every frame. So, why do we need tracking in the first place? Let’s explore the different reasons you may want to track objects in a video and not just do repeated detections.\n",
    "\n",
    "## <font style = \"color:rgb(50,120,229)\">Tracking is faster than Detection</font>\n",
    "\n",
    "Usually tracking algorithms are faster than detection algorithms. The reason is simple. When you are tracking an object that was detected in the previous frame, you know a lot about the appearance of the object. You also know the location in the previous frame and the direction and speed of its motion. So in the next frame, you can use all this information to predict the location of the object in the next frame and do a small search around the expected location of the object to accurately locate the object. A good tracking algorithm will use all information it has about the object up to that point while a detection algorithm always starts from scratch. Therefore, while designing an efficient system usually an object detection is run on every nth frame while the tracking algorithm is employed in the n-1 frames in between. \n",
    "\n",
    "Why don’t we simply detect the object in the first frame and track subsequently? It is true that tracking benefits from the extra information it has, but you can also lose track of an object when they go behind an obstacle for an extended period of time or if they move so fast that the tracking algorithm cannot catch up. It is also common for tracking algorithms to accumulate errors and the bounding box tracking the object slowly drifts away from the object it is tracking. To fix these problems with tracking algorithms, a detection algorithm is run every so often. Detection algorithms are trained on a large number of examples of the object. They, therefore, have more knowledge about the general class of the object. On the other hand, tracking algorithms know more about the specific instance of the class they are tracking.\n",
    "\n",
    "## <font style = \"color:rgb(50,120,229)\">Tracking can help when detection fails</font>\n",
    "\n",
    "If you are running a face detector on a video and the person’s face gets occluded by an object, the face detector will most likely fail. A good tracking algorithm, on the other hand, will handle some level of occlusion. \n",
    "\n",
    "## <font style = \"color:rgb(50,120,229)\">Tracking preserves identity of objects</font>\n",
    "\n",
    "The output of object detection is an array of rectangles that contain the object. However, there is no identity attached to the object. For example, in the video shared in this lecture, a detector that detects red dots will output rectangles corresponding to all the dots it has detected in a frame. In the next frame, it will output another array of rectangles. In the first frame, a particular dot might be represented by the rectangle at location 10 in the array and in the second frame, it could be at location 17. While using detection on a frame we have no idea which rectangle corresponds to which object. On the other hand, tracking provides a way to literally connect the dots!"
   ]
  }
 ],
 "metadata": {
  "kernelspec": {
   "display_name": "Python 3",
   "language": "python",
   "name": "python3"
  },
  "language_info": {
   "codemirror_mode": {
    "name": "ipython",
    "version": 3
   },
   "file_extension": ".py",
   "mimetype": "text/x-python",
   "name": "python",
   "nbconvert_exporter": "python",
   "pygments_lexer": "ipython3",
   "version": "3.7.1"
  }
 },
 "nbformat": 4,
 "nbformat_minor": 2
}
