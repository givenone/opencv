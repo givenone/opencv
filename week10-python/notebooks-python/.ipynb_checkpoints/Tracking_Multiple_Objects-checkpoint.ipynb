{
 "cells": [
  {
   "cell_type": "markdown",
   "metadata": {},
   "source": [
    "# <font style = \"color:rgb(50,120,229)\">Tracking Multiple Objects</font>\n",
    "\n",
    "# <font style = \"color:rgb(50,120,229)\">Multi-object Tracking</font>\n",
    "\n",
    "Till now we have discussed how to track single objects in a sequence of frames. There may be applications where the need is to track multiple objects at the same time. OpenCV has a Multiobject Tracker class which has a very basic implementation of a multi object tracker. It processes the tracked objects independently without any optimization across the tracked objects.\n",
    "\n",
    "Let’s take a look at code to find out how can we use OpenCV’s multi-object tracking API.\n",
    "\n",
    "## <font style = \"color:rgb(50,120,229)\">Code - MultiTracker</font>"
   ]
  },
  {
   "cell_type": "code",
   "execution_count": 5,
   "metadata": {},
   "outputs": [],
   "source": [
    "import cv2\n",
    "from random import randint\n",
    "import numpy as np\n",
    "import matplotlib.pyplot as plt\n",
    "from dataPath import DATA_PATH\n",
    "%matplotlib inline"
   ]
  },
  {
   "cell_type": "code",
   "execution_count": 2,
   "metadata": {},
   "outputs": [],
   "source": [
    "import matplotlib\n",
    "matplotlib.rcParams['figure.figsize'] = (6.0,6.0)\n",
    "matplotlib.rcParams['image.cmap'] = 'gray'"
   ]
  },
  {
   "cell_type": "code",
   "execution_count": 3,
   "metadata": {},
   "outputs": [],
   "source": [
    "trackerTypes = ['BOOSTING', 'MIL', 'KCF','TLD', 'MEDIANFLOW', 'GOTURN', 'MOSSE', 'CSRT']"
   ]
  },
  {
   "cell_type": "code",
   "execution_count": 4,
   "metadata": {},
   "outputs": [],
   "source": [
    "def createTrackerByName(trackerType):\n",
    "  # Create a tracker based on tracker name\n",
    "  if trackerType == trackerTypes[0]:\n",
    "    tracker = cv2.TrackerBoosting_create()\n",
    "  elif trackerType == trackerTypes[1]:\n",
    "    tracker = cv2.TrackerMIL_create()\n",
    "  elif trackerType == trackerTypes[2]:\n",
    "    tracker = cv2.TrackerKCF_create()\n",
    "  elif trackerType == trackerTypes[3]:\n",
    "    tracker = cv2.TrackerTLD_create()\n",
    "  elif trackerType == trackerTypes[4]:\n",
    "    tracker = cv2.TrackerMedianFlow_create()\n",
    "  elif trackerType == trackerTypes[5]:\n",
    "    tracker = cv2.TrackerGOTURN_create()\n",
    "  elif trackerType == trackerTypes[6]:\n",
    "    tracker = cv2.TrackerMOSSE_create()\n",
    "  elif trackerType == trackerTypes[7]:\n",
    "    tracker = cv2.TrackerCSRT_create()\n",
    "  else:\n",
    "    tracker = None\n",
    "    print('Incorrect tracker name')\n",
    "    print('Available trackers are:')\n",
    "    for t in trackerTypes:\n",
    "      print(t)\n",
    "\n",
    "  return tracker"
   ]
  },
  {
   "cell_type": "markdown",
   "metadata": {},
   "source": [
    "Set tracking algorithm and path to video file\n",
    "\n"
   ]
  },
  {
   "cell_type": "code",
   "execution_count": 6,
   "metadata": {},
   "outputs": [
    {
     "name": "stdout",
     "output_type": "stream",
     "text": [
      "Default tracking algoritm is CSRT \n",
      "Available tracking algorithms are:\n",
      "\n",
      "BOOSTING\n",
      "MIL\n",
      "KCF\n",
      "TLD\n",
      "MEDIANFLOW\n",
      "GOTURN\n",
      "MOSSE\n",
      "CSRT\n"
     ]
    }
   ],
   "source": [
    "print(\"Default tracking algoritm is CSRT \\n\"\n",
    "    \"Available tracking algorithms are:\\n\")\n",
    "for t in trackerTypes:\n",
    "    print(t)\n",
    "\n",
    "trackerType = \"CSRT\"\n",
    "\n",
    "# Set video to load\n",
    "videoPath = DATA_PATH + \"videos/hockey.mp4\""
   ]
  },
  {
   "cell_type": "markdown",
   "metadata": {},
   "source": [
    "Open video file and read first frame"
   ]
  },
  {
   "cell_type": "code",
   "execution_count": 7,
   "metadata": {},
   "outputs": [],
   "source": [
    "# Create a video capture object to read videos\n",
    "cap = cv2.VideoCapture(videoPath)\n",
    "\n",
    "# Read first frame\n",
    "success, frame = cap.read()\n",
    "\n",
    "# quit if unable to read the video file\n",
    "if not success:\n",
    "    print('Failed to read video')"
   ]
  },
  {
   "cell_type": "markdown",
   "metadata": {},
   "source": [
    "Draw box around an object. You can redraw the box if the previous selection was not correct. Value of bounding box will only be stored in code when you press ENTER. After pressing ENTER, press any key other than q to select next bounding box. You can keep selecting as many bounding boxes you want. To exit the object selection step, press ESCAPE. Behaviour of selectROI in Python API is different than C++ API. You can only select 1 box while calling selectROI, so we call selectROI multiple times to select multiple objects.\n",
    "\n",
    "**Remember the sequence : Select box -> Press Enter -> Press another key -> Select Box -> Press Enter -> Press ESC**"
   ]
  },
  {
   "cell_type": "code",
   "execution_count": null,
   "metadata": {},
   "outputs": [],
   "source": [
    "## Select boxes\n",
    "bboxes = []\n",
    "colors = []\n",
    "# OpenCV's selectROI function doesn't work for selecting \n",
    "# multiple objects in Python\n",
    "# So we will call this function in a loop till we are done \n",
    "# selecting all objects\n",
    "while True:\n",
    "    # draw bounding boxes over objects\n",
    "    # selectROI's default behaviour is to draw box starting \n",
    "    # from the center\n",
    "    # when fromCenter is set to false, \n",
    "    # you can draw box starting f\n",
    "    # rom top left corner\n",
    "    bbox = cv2.selectROI('MultiTracker', frame)\n",
    "    bboxes.append(bbox)\n",
    "    colors.append((randint(64, 255), randint(64, 255),\n",
    "                    randint(64, 255)))\n",
    "    print(\"Press q to quit selecting boxes and start tracking\")\n",
    "    print(\"Press any other key to select next object\")\n",
    "    k = cv2.waitKey(0) & 0xFF\n",
    "    \n",
    "    if (k == 113):  # q is pressed\n",
    "        break\n",
    "\n",
    "print('Selected bounding boxes {}'.format(bboxes))"
   ]
  },
  {
   "cell_type": "code",
   "execution_count": null,
   "metadata": {},
   "outputs": [],
   "source": [
    "## Initialize MultiTracker\n",
    "# There are two ways you can initialize multitracker\n",
    "# 1. tracker = cv2.MultiTracker(\"CSRT\")\n",
    "# All the trackers added to this multitracker\n",
    "# will use CSRT algorithm as default\n",
    "# 2. tracker = cv2.MultiTracker()\n",
    "# No default algorithm specified\n",
    "\n",
    "# Initialize MultiTracker with tracking algo\n",
    "# Specify tracker type\n",
    "\n",
    "# Create MultiTracker object\n",
    "multiTracker = cv2.MultiTracker_create()\n",
    "\n",
    "# Initialize MultiTracker\n",
    "for bbox in bboxes:\n",
    "    multiTracker.add(createTrackerByName(trackerType), frame, bbox)"
   ]
  },
  {
   "cell_type": "markdown",
   "metadata": {},
   "source": [
    "Now process frames of video and quit after last frame is read. And then, update tracker with new frame and draw the bounding boxes returned by tracker."
   ]
  },
  {
   "cell_type": "code",
   "execution_count": null,
   "metadata": {},
   "outputs": [],
   "source": [
    "# Process video and track objects\n",
    "while cap.isOpened():\n",
    "    success, frame = cap.read()\n",
    "    if not success:\n",
    "        break\n",
    "\n",
    "    # get updated location of objects in subsequent frames\n",
    "    success, boxes = multiTracker.update(frame)\n",
    "\n",
    "    # draw tracked objects\n",
    "    for i, newbox in enumerate(boxes):\n",
    "        p1 = (int(newbox[0]), int(newbox[1]))\n",
    "        p2 = (int(newbox[0] + newbox[2]), int(newbox[1] + newbox[3]))\n",
    "        cv2.rectangle(frame, p1, p2, colors[i], 2, 1)\n",
    "\n",
    "    # show frame\n",
    "    cv2.imshow('MultiTracker', frame)\n",
    "\n",
    "\n",
    "    # quit on ESC button\n",
    "    if cv2.waitKey(1) & 0xFF == 27:  # Esc pressed\n",
    "        break"
   ]
  }
 ],
 "metadata": {
  "kernelspec": {
   "display_name": "Python 3",
   "language": "python",
   "name": "python3"
  },
  "language_info": {
   "codemirror_mode": {
    "name": "ipython",
    "version": 3
   },
   "file_extension": ".py",
   "mimetype": "text/x-python",
   "name": "python",
   "nbconvert_exporter": "python",
   "pygments_lexer": "ipython3",
   "version": "3.7.1"
  }
 },
 "nbformat": 4,
 "nbformat_minor": 2
}
